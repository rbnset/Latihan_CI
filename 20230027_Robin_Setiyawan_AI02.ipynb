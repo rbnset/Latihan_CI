{
  "nbformat": 4,
  "nbformat_minor": 0,
  "metadata": {
    "colab": {
      "provenance": [],
      "include_colab_link": true
    },
    "kernelspec": {
      "name": "python3",
      "display_name": "Python 3"
    },
    "language_info": {
      "name": "python"
    }
  },
  "cells": [
    {
      "cell_type": "markdown",
      "metadata": {
        "id": "view-in-github",
        "colab_type": "text"
      },
      "source": [
        "<a href=\"https://colab.research.google.com/github/rbnset/Latihan_CI/blob/main/20230027_Robin_Setiyawan_AI02.ipynb\" target=\"_parent\"><img src=\"https://colab.research.google.com/assets/colab-badge.svg\" alt=\"Open In Colab\"/></a>"
      ]
    },
    {
      "cell_type": "markdown",
      "source": [
        "# Data Preprocessing\n",
        "\n",
        "Dalam kehidupan kita sehari-hari, kita berurusan dengan banyak data tetapi data ini dalam bentuk mentah. Untuk menyediakan data sebagai input dari algoritma pembelajaran mesin, kita perlu mengubahnya menjadi data yang bermakna. Di situlah preprocessing data muncul. Secara sederhana, bisa kita katakan\n",
        "bahwa sebelum memberikan data ke algoritma pembelajaran mesin, kita perlu memproses data terlebih dahulu."
      ],
      "metadata": {
        "id": "eVRRsRDodY4X"
      }
    },
    {
      "cell_type": "markdown",
      "source": [
        "## Langkah 1: Mengimpor paket yang diperlukan.\n",
        "\n",
        "Jika kita menggunakan Python maka ini akan menjadi langkah pertama untuk mengubah data menjadi format tertentu, yaitu preprocessing. Di sini kita  menggunakan dua paket berikut:\n",
        "\n",
        "* **NumPy**: Pada dasarnya NumPy adalah paket pemrosesan array tujuan umum yang\n",
        "dirancang untuk memanipulasi array multi-dimensi secara efisien.\n",
        "\n",
        "* **Sklearn.preprocessing**: Paket ini menyediakan banyak fungsi utilitas umum\n",
        "dan kelas transformer untuk mengubah vektor fitur mentah menjadi representasi yang lebih sesuai untuk algoritma pembelajaran mesin.\n",
        "\n",
        "\n"
      ],
      "metadata": {
        "id": "qj8ZH0n2egk6"
      }
    },
    {
      "cell_type": "markdown",
      "source": [
        "![image.png](data:image/png;base64,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)"
      ],
      "metadata": {
        "id": "LAHNKepRxN72"
      }
    },
    {
      "cell_type": "code",
      "source": [
        "import numpy as np\n",
        "from sklearn import preprocessing"
      ],
      "metadata": {
        "id": "ezdYJEI4xO3p"
      },
      "execution_count": null,
      "outputs": []
    },
    {
      "cell_type": "markdown",
      "source": [
        "## Langkah 2: Menentukan data sampel\n",
        "\n",
        "Setelah mengimpor paket, kita perlu mendefinisikan beberapa sampel data sehingga kita dapat menerapkan teknik preprocessing pada data tersebut."
      ],
      "metadata": {
        "id": "McrmrqMBgQ-g"
      }
    },
    {
      "cell_type": "markdown",
      "source": [
        "![image.png](data:image/png;base64,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)"
      ],
      "metadata": {
        "id": "ma6yxnFjxVai"
      }
    },
    {
      "cell_type": "code",
      "source": [
        "input_data = np.array([[2.1, -1.9, 5.5],\n",
        "                       [-1.5, 2.4, 3.5],\n",
        "                       [0.5, -7.9, 5.6],\n",
        "                       [5.9, 2.3, -5.8]])"
      ],
      "metadata": {
        "id": "Tl2oIZhIxWau"
      },
      "execution_count": null,
      "outputs": []
    },
    {
      "cell_type": "markdown",
      "source": [
        "## Langkah 3: Menerapkan teknik preprocessing\n",
        "\n",
        "Pada langkah ini, kita perlu menerapkan salah satu dari teknik preprocessing. Kita akan mempelajari teknik preprocessing berikut :\n",
        "\n",
        "1. Binarization\n",
        "2. Mean Removal\n",
        "3. Scaling\n",
        "4. Normalization\n",
        "\n"
      ],
      "metadata": {
        "id": "M8x45tlyhBIR"
      }
    },
    {
      "cell_type": "markdown",
      "source": [
        "### 1. Binarization\n",
        "\n",
        "Ini adalah teknik preprocessing yang digunakan ketika kita perlu mengubah nilai angka menjadi nilai Boolean. Kita dapat melakukan binerisasi data masukan dengan menggunakan 0,5 sebagai nilai ambang. Semua nilai di atas 0,5 (nilai ambang) akan dikonversi menjadi 1 dan semua nilai di bawah 0,5 akan dikonversi menjadi 0."
      ],
      "metadata": {
        "id": "rhHUb5oCifzX"
      }
    },
    {
      "cell_type": "markdown",
      "source": [
        "![image.png](data:image/png;base64,iVBORw0KGgoAAAANSUhEUgAAAnwAAAAzCAYAAAANfNXGAAAAAXNSR0IArs4c6QAAAARnQU1BAACxjwv8YQUAAAAJcEhZcwAADsMAAA7DAcdvqGQAABcsSURBVHhe7Z1tbB3Vmccf9hMRqrRdkpgoIntLUmkNFpGJaktF4BvyZaOUvXHUJm6RiKWqoFY1bsSClXZ1dWVtiQJErmO0FVTVOpHoOgHFuaIR4oPJNYhVbQRWkJPwAaMhEaLOS1tthcw39nnOy8w5c+f1zti+vnl+6ITreTtz5rz9z/OcM3Pb0tLS18AwDMMwDMO0LP+g/s8wDMMwDMO0KCz4GIZhGIZhWhwWfAzDMAzDMC0OCz6GYRiGYZgWhwUfwzAMwzBMi8OCj2EYhmEYpsVhwccwDMMwDNPisOBjGIZhGIZpcVjwMQzDMAzDtDgs+BiGYRiGYVocFnwMwzAMwzAtTtMIvpkj66Dv9KL6axWZPQrrHjsFcXdC97tuXR+c+lxtWDFm4Og6jDvBPWahafKDCefzU9BHZeHIjNrQPLR6/YgkYRuiWTzdt0p5uAinHlsHR2fVn6lRz1qEBHmd8rksK1R3muVeckfmq8wXDCtetqhcBJWHJqibWVnRMkzP6yj+mx+5Cb5Lp8pQLo/B9A21YbkRnV2+D4NhmGiEOHE7eQqrIeqaGGqXeuZg/PkD0KY2CVqyveqGoaUlWFqqQUVtyZX5V+GfRn+swnPweope9lrtOeNcGY7Nq53E5gNwqKMfCg2KoWYeEC+eHoR+GAdH5A2Gw91qz0pAYrMIcydG4cBmtWnVyTqwyUCmet8N/SfmoJijwMxB8F2CiXIZPmrbBRvUlluB7sNUmSZWoVCrRvZVX4fC3HpgpzWx4g06ss/rTJwTAP3P1jdIt2b9wI7l2X6Apurs1iiLb8PBqc/glb7fw18Gfw8fbwd4YuJVeF/tTsKj24+Kc3V4ukPtUHQfdmB8vrg6QmAZcRaqUCoVV6V/0GJzdH9Q7Nx3paVt/wTUcGAymNPgIrPgu3RqCjY9NQx9vsoUj212Lg6rzS6muwCDOxJT27f1QxXHlUX3GNPS4DNpN6CQHcOSYY3khGLX1/Yrd4qX7sO8d98xZBJ29/lGHdpcbMZhjEAt60rdyNT3vESwrS+2dSbo3r1z6/NjuVBmazPNZn65IyQjfb78DE9XXH7INFMeSBckBfuZedvr9wl8+WmP+u08qbMIRJ7rT5ddVsz7Crwulg/zfP8xdrpCrpOAtgd7oXTGAUf9nbl++J6ZVc5jykLW+mHnR8C+iLopmB0P6OxUvJHtlcTME39eU96Y6bNFip22wPIQtd8635cfVn5iqHuu0Vh50pPcDvj+/74Kb2zphe+rR7mx2Au/grfhHdNKl5k2ODBYgcqo3Z5EodND7WP1YCHgucS3Kf78MPOSrk/5E1YW/HntbwspfifiGdn13r6vqHIm7+uUihvLiE6DVR5mYPwg1Fu3EascBNZNvKZZ1sx0UVx4jnkNswyL7eY13XZCp7cA/WcAKj3q2r7z47Duva4M2/2md9/J6r117YA2geh+fBzg4LhIT1YyC757DwxAz3r1RwpmjmAmdNSkyRlDrax2KGaO1KCo9gmXwbAeialRwifjUMIHWXOP8awJi6fxAT2vt+MoDpvhVAr5TD8UFw7J8zEeODjoZYS2qoj4g6hC/7YRKHyi4t5XgRE3biwEU0V1XximsbHp8TWwGHdhmwOHdBzDI27cpPbpPOdEUMzavSIDHVMyLQ1YaQoHO93n5fhMxXH5sbxghdBpDswvqjD6mWJZwGc0rhvBmHTZ+UHpwmv5GhxqCEa2Omo/Hn9S7qfKWJz3WbO2GflFDRG579S1KUy4nT01BOTakNel++7EDsJrvLEshJ6LYKM1aKSLwlCX2odIC1pEPmF9KegyjOWsajYYeN/FYV13qIzitnLNjj8hi+9NQrVcxNKnyFQ/ouq9JrwsZKof1EmY+THdaec1EVE3iZmpSoBlJb69EmA6dRmke/OLEBIXOj/t/RnLGVLpiWivsMPqnNbnyvxI3Fn66iaVw2TcgM/+BvCrb7e7f7/+3y/Cr/HXRzdynjPUVcQyNAm1gI42CF3GqN6V3GeOwWdlD2tTxDON6QMor8PKwswRM68xuNYyvK4QDVLceGLUExGx7RkSXs5o3ySWE1lGiqMFcEQdqHnnz2L52NcLxQDrdnTdJMw+wNfGE2Z7hvFafXIEsp2UbVzFLcf1dSCUmDIcrjUS1Htsc3B4qLar/AjwlsDmIvTiM69Z7WBjrM6iDUzoCHU4Ea6o7sNDXieCv4pYweacZA1N2/4hozFtg2KpBNUF1wYRD7ms9L2Jh12FyfeSxU1UpnWm+uPGQmCmmRobmAPHKrglbJxV2lXc9v4EkFio9lqWBuqMKtPeM23bf8hr6BLkRxT2KMULdkcdhZHmkPzynqldFiLTpfDOxbN3YYWdd+xKZYgdbz+NVnFsNuiNVtv2j4rGTlY87GhHsYMPc999XoNJy9pD8zGw6k9ZzWtMucpQyc0y7Ctn9MzAFWnyedc9kyhI+Kg8Fo1hynITXj/wKSWo92FlITEB9YOEq+WK7cIOp66Rjaqb0rLSWfCumQqjDNZZTQkjP639OZSzsPxYPD2CHTh2Ye5AA9svGjxUawnKiqwfZt200QLFF3wWq/cnaf7dELzxraPw8fat8MZfr6s98bxxYcibwzd5WW31gwKnkTY2jsA2RfwV3wfElIXg568EhhI3nhjVeRvXninCyhlRPuTWD/M6mkVnDqCjULc9GWYfEFCvA/rk3POsjrgyTM8wg9bAwfGQ0QYF1ntBGxQ6GmjnAlgdwZcEsp4YDUEqFyM26KYbooAFvXHkw84L26ROld2HNUJqgwOv2padeLCQPjsJvZZZXXZGpkk7MO4G0aM3f0h33z4sAYKjP591SzaIDabLV6kqu8wGeMgYNZeg4OaFH7wGjqRDO/jPHagawoiCXQ6xgRYjVT0S91mTyFImRv/qfF9HmIXCVhR47sh8EWrVlHN+qPHV+TwNUAxxRTREbL0PKwtJCaofct6T5aJTlhKLyLopy8NyYeWPsKKqTihrOYuj4Q48Di1QfMGY3/XrqR/DS9+U8/BOFNfDZ39dgEe/mWym+MbiL435e0fhlb+9GCL68utMTcLblAR9QARi3iF4+Z18UE1EtWeS0HKWAKpDK0needYQmbQGtkWmO1i4f4OhNjuxkIygOQUfPcQeUtZeQ5DcxSjdEGCYvcPNyEnIOHI3ECZ115VGoZab6NLQpNnJUrDVyXyeMniWryxkt/AFkKKjSZ2ufTiqVz+j8Y8izU6dLAPqZximMNLBHN1r9ycG4Yr2d8bUUaj9NHG3kJPoayt04r/kGqV8QmFjWYhSIixhOY22M9X7ZETVD8tFp0LyQUuC8rBcZC1nUfgsv8KKkwtRFr718M//iIds+Xch9CTSzXv/+gbmD+H1Hv7WVvXbT37texKy9wFyoCHORSE/hwPC5O1sVHuWHTGQXEFWKs/CyaY1xDQqbHvduivcv8GIhThbk/VaUayO4NtcgE4s5tqULCuB/O1hjEbEnCP1W+O7hh+3MJD7JouFjyZin7GtCpkwxAbNx8hV8NF8A5+rSiJNzXXzBTWJ8iOcXC18Kr+sEXIoMemqAysoCopk1izpVjDnsNgurpi4xdyg5HNHpQgLJ7/GVLspjLwKWjWnR65xIjPv+hFX77MQWj8wt3fRPMdk84KCibEUxbRXDZNzOTORLiZzLlW9WzAc+Txc17IS8x7RFr7vfPsRgCsveq9SmX8Lnvi/R+Bhy9tCc/vIZRvzypbFt+GZCwvGnEATEj1Bli9tfQm2XguLSyLXdgB59QGiTCUlrj3LjihbaaaGNIhYCexvc9x4pQize3xfWUxMXBmWRGqNuHrvGjbI8xBm4ctvUJJZ8F2vjUG5XIby8Sm4jv9NHU/yPj6s7Ia7iiZjWsoYR6SHaKLrNjXqGy3AeN1I376GVzHVHBa9fZsDvWktfKaLpAdwNOaZtV1rlihU2kqSTHDI+WXetUe2jqeo7J75V5iNh4vyPtwFCFLMWPeOQU+wJlEmR/fePq8zj8mPZcfIa3yuNEk8qViMTpfEKyNywnNSFyC5C4VlTV1XzFczxFFQ3N6EdurQ5AR6vY+COxr3uS7l4o+AcqaCHbdnHSFBpF2RySbTq5WJ7jNRIY310KofIffdQP1IVu/DyFY/hDVVLNTw9qV1f0rRGLaaLqy9ykq2chYJWQaVFUmeL+uPWzfda5No0fnmpav7sFzkIY6hCfkRFow6Oh6Dv+x6RLh1xRy8KYC3Bh+D76jd0WghqMLEn+DRvvrXsggiFhpEIea/Ga7V+pWnwWTrA7x6r5+7lR8xxLVnmVGDD2uxhSCubibAeGZyEYVXhu28GIHCdH05s8oihqQLj6LLcBKtEV7vafVtyb2nAjilkPpB83RzGlTfhqOqr9VvhlkFqBGjVYL5uJdtqKHBijSYcT5hSxH0TOS2yVJyMcwEwc9xbcHtQ97QgI+s6E6eQpIGFrQqOM9rriFoziet2s6jTWneRRsMwywDAfN2xAiyGebErHXa4MDzyV8Zwawu+lVULPbyQ1vbUr0GjQlFTK+azzDH2setJfj0vKSQkNTMyzBrF7+LAUNKNzoTAblByTUc9D4tpnnAvmCE3klnLm5hcoAWldAUg+Yf9PinzdghrykXWaA5s/m63dmlyzAMwzAM0+KwS5dhGIZhGKbFYcHHMAzDMAzT4rDgYxiGYRiGaXFY8DEMwzAMw7Q4LPgYhmEYhmFanDUt+G6c/zkMP7kdXgv6JnYu0Is5/d8q/ADOb9kCf6xeB/jiLPwRf5//UO1qZj4cg9d/ehauqT+DkWmLP24FEc94DBrOYkr3lidh9guAa9Un8XeGa8VAL8hsilf70ItKE3w5Q37EfTVeP6C+GJDm6x6N4H8O9Fqm5Y6TYRimSclB8F2HafE5NRVOXVLbm5kb8O7ReKGY+sWcQlygYDKCEIZpSCTMbiE27YWtT78Af14Lojot4r2Q6T7fxWSAPt1Gn5ZK80knhmGYFiGz4Ltem4CP7h+A4eFhDH1w78UJGKulFDkNsn7nS1B++QL8IOib2FmZpQ+3V6BW92LOLXDHHoA77t6AYuRuuAN2wx2b1C7BM3DflSvwfQozxwEGdqQXfavGDthJ9/3bvbBRbWkG2h96Bm7+rkERjHl0O3TANzCPNt7dAbDnbrhT7brVoW9rLi0txyft4qDvv3ofyl9Jug87MD5f9FntGYZhWp/Mgm9DcQAGiih+BPfC/fehCFyMEzhkYfs5vHvzArz25Hbhlh1+8pjhavMscJf/oPfT8Wo3mOeZ24noa8vr7YLzn+Lv3+j92+G/zt9QRxCLcGq0ApXpoI+Mb4Cu316BnQ/QbxJIL0OXJfgMNu2F7519Br4amPDS5rMCuu5g5R5+fe8LAOeegnfcY0wX5HWY/al3biOWwJvCrSnPN4WodHeq645+oLZqyNWL96HvkYI/bitd0oXqoq2W5vn+ONS+QHH8QB/K7KfgYoCVj+6bzrk8quP2udgpD64MgBgTPDCQs5iVLn/9dvbisNrs4vvYufkhf/p7Wz9UoQJF9xjbvWq/CT6969UxzrdczdYXZ/wWRkoTxWXeu/+YsHQh2o1qxmHst9JUZ2nzXVcEX7rp+mH7EOv6PUGfpW+DA4NYt0fZtcswzK3FKs7hexfO//J3cNdzF6SVruckvPaHC2qfhATZ+U1Taj8e/5bevx1+gNvKL5+UHXkd5rWnYOc9J+G8EnTtP9Lb8PcvZNwUfrZzvdgvEN8WxY44j09NCQvTPPxdCCAUTu9+V1r/KKAYvLlXCTohTOQ22HMcHtbHaLGCXKtOAJT19g+ECJpNYz1EIXnReUKeL6yP/+EKs42ll8X2h8d2yw11vAAXu6/CVhH3JNxJ1zLF6t552DKj7u1sB1zp9s2VIxGrz8e4bz/2ii0KI9kAhX/dDTff9QtRyVcDO2Ch8IF7/w1bA1OiXf5LZK3CUCurHYqZIzUoqn1LSzWoDGvLkrJwfTIOJRR8NfcYw9qGgmkcRtX2JXBOQLrPdZ3ph+LCIXk+xmN935U+/6W2l9Qmmyr0bxuBwicUtwPj+yowYgjG8HQpMO7CNgcO6TiGR9y42/ZPqPQExayeiwp0TOnEqPVM+nrmYFzcFwb6hNk2Q4yiGCzQp4j0NaaDBB/SVYTKmUmopRTQDMMwa5l8Bd/lCZi4uAF27bpXbYim/RcvwUPKv9be+TjA1U/BtLMBikAtxAL3R+Bdez20dz0EN75I0bp/7kB1XwEK6s9MCLevZgfsHNyhfiMPfBfudMVgPBtLA4Y1UYqgr5wr6u8EkJDU8W96EDbueROuzSYVjLtR0GnxuQPuehrgy6vy3GuzbwKM/ad3b2SR2+Ofd2ecr+L+0ky3ErzfK2lrsc3G0hNwZ5hIfHrSPW9j1264/dxVsIy+ywGKj5FAl79H92HTQtwNRRSEc05CyYaibMj4YHbbg71QOuOAo/6OZZ/xndDNRejdV4XJ95LbtCrTWny2QbFUguqCF3N8ukooytQxKm4nrbjC5ztY7bU+Gr743iSAKQC7+oUYrQmxGWWV94N1u5F7YhiGWcPkJ/huTMPY/1yCe384AD2GsSwVn34Kpvxo79yufiHtT0N5qBfl2/Kz6MypXznwxVX4Uv0kTNfj61t60wkT0yWK4Z0BFFoNswG+8S/qZ0ZuOm8KK5uXrh1w5ZzaqdmzGwqGWPXc4kkhkZlGoDYBlvsxyOUbhe0ulu7fRmmDQof6mQdx6drXC0V3XiB9TH0p+cInAab92Unofd6e4+csVKF6sGDEXYD+M2pnKuTzSCy+GYZhWoB8BB+JveNTAI8MQF+wjzUZ99yDUmD1aSt0ql/ZIevXV2rRAM03u3jMWNRBrlF1XDwfwPnupwDGpOsy2v2ahOvw94/V4pMcuN24Lx3SCbp42veTG9qYD9nMCPcjWZyUexGD3+UbhXAXwzg42j0Z6n5NwiI48wCdhRyWSGRMVxIWTw/CZMmw5BmUTjhuvDqkE5NEjs+DYRhmjZBd8Bliz1u8kZYL8NpvTsL6rodWxIJHbt71dwNcnrPnDLpsLqRzn4Xx4Ziwwt151puHZ64SvTwaYOGjOX/n3gQnxM3rCrQvzsJsFgvfhxNw5dwzcFcOooxW0X5lzAdsiKhFGxrhCl6GV7Roi1Wa13VgGemk+Xdq7hotFqi34JWgoEULxlG333eNOjoKysJFFq8MFr7ZcejPa06qICZdWcDrFXyuXE33rgpUzbmIFtJqV5lSeaiEaTBYt88YaWAYhrkFyCz4Lk1NCTfs9bfHvHfxlcdgOsFkO2+V7ONwvW/KXjgRxeVj7nmXxQIN+u1frRtN+49OQvv04+o6vlW6Yt6RPVE9OS/ARe3aVAsZtKVLzEMzVuAuFI7XW/g27YWuMYAr3do9qhc/7ID7aEHCXrW9+ypsTGvhM1f/7gW4z10Q4q3+FW7iY73ymLrVuiHQ6lexUENdWwTfoo1c2ABdP8nwipYwaBI//X/eQWmVlG4Ymq5ApUe6FwsLh+yFCPTOtzItflDux9ECjNdZwuxrmKtOux+nxQ5Ftb0ATimlhY8WTohzMfQA1Ja8uW3uSlZrlXDC9wEmSlcYnpu6cBDlq06fuXqZRJp57xjcFcZdQ2qhhrfPvO/uw3IBidhOi0bCrKKzeJzldmYYhml9bltaWvpa/V5B6NUpu+DP/7ZM79DLA7L6+DpKphkgcboDvvxJni5jEiJqxW3EIgymFZB57Qw24gpmGIZZu+S7SreV6BqCWrkCxTRuPmYFaGTBRzjS2sVi71Yh9ddzGIZhWgQWfBHwW/lbH/1euDUj9mhumuvOrA9N8S3fZgWf3ci88boahmGYW4hVcukyDMMwDMMwKwVb+BiGYRiGYVocFnwMwzAMwzAtDgs+hmEYhmGYFocFH8MwDMMwTIvDgo9hGIZhGKbFYcHHMAzDMAzT0gD8P/lSk32SvrA5AAAAAElFTkSuQmCC)"
      ],
      "metadata": {
        "id": "o6yVpDKXxg0Q"
      }
    },
    {
      "cell_type": "code",
      "source": [
        "data_binarized = preprocessing.Binarizer(threshold=0.5).transform(input_data)\n",
        "print(\"Data biner:\\n\", data_binarized)"
      ],
      "metadata": {
        "id": "aJ13t3hxxh1z",
        "colab": {
          "base_uri": "https://localhost:8080/"
        },
        "outputId": "77a1802d-c356-4f06-a6cb-b914c1337cc1"
      },
      "execution_count": null,
      "outputs": [
        {
          "output_type": "stream",
          "name": "stdout",
          "text": [
            "Data biner:\n",
            " [[1. 0. 1.]\n",
            " [0. 1. 1.]\n",
            " [0. 0. 1.]\n",
            " [1. 1. 0.]]\n"
          ]
        }
      ]
    },
    {
      "cell_type": "markdown",
      "source": [
        "### 2. Mean Removal (Penghapusan Rerata)\n",
        "\n",
        "Mean removal digunakan untuk menghilangkan rata-rata dari vektor fitur sehingga setiap fitur berpusat pada nol. Kita juga dapat menghapus bias dari vektor fitur.\n",
        "\n",
        "Untuk menerapkan teknik preprocessing penghapusan rata-rata pada data sampel, kita dapat menulis kode python di bawah ini. Kode akan menampilkan Rerata dan Simpangan Baku."
      ],
      "metadata": {
        "id": "LV0EyJ4jnQFF"
      }
    },
    {
      "cell_type": "markdown",
      "source": [
        "![image.png](data:image/png;base64,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)"
      ],
      "metadata": {
        "id": "SpYEB48WxqCA"
      }
    },
    {
      "cell_type": "code",
      "source": [
        "print(\"Rerata =\", input_data.mean(axis=0))\n",
        "print(\"Simpangan Baku = \", input_data.std(axis=0))"
      ],
      "metadata": {
        "id": "f6xicNyhxrBH",
        "colab": {
          "base_uri": "https://localhost:8080/"
        },
        "outputId": "eece1608-769d-43f8-8778-9ae8587e8157"
      },
      "execution_count": null,
      "outputs": [
        {
          "output_type": "stream",
          "name": "stdout",
          "text": [
            "Rerata = [ 1.75  -1.275  2.2  ]\n",
            "Simpangan Baku =  [2.71431391 4.20022321 4.69414529]\n"
          ]
        }
      ]
    },
    {
      "cell_type": "markdown",
      "source": [
        "Sekarang, kode di bawah ini akan menghapus Rerata dan Simpangan Baku."
      ],
      "metadata": {
        "id": "0kGmr52QokZR"
      }
    },
    {
      "cell_type": "markdown",
      "source": [
        "![image.png](data:image/png;base64,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)"
      ],
      "metadata": {
        "id": "gTYpnJLdxyqj"
      }
    },
    {
      "cell_type": "code",
      "source": [
        "data_scaled = preprocessing.scale(input_data)\n",
        "print(\"Rerata =\", data_scaled.mean(axis=0))\n",
        "print(\"Simpangan Baku =\", data_scaled.std(axis=0))"
      ],
      "metadata": {
        "id": "olvEOlr_xzrn",
        "colab": {
          "base_uri": "https://localhost:8080/"
        },
        "outputId": "cd5c9e60-e678-434c-c37f-bc9af123c6f3"
      },
      "execution_count": null,
      "outputs": [
        {
          "output_type": "stream",
          "name": "stdout",
          "text": [
            "Rerata = [1.11022302e-16 0.00000000e+00 0.00000000e+00]\n",
            "Simpangan Baku = [1. 1. 1.]\n"
          ]
        }
      ]
    },
    {
      "cell_type": "markdown",
      "source": [
        "### 3. Scaling (Penskalaan)\n",
        "\n",
        "Penskalaan vektor fitur diperlukan karena nilai dari setiap fitur dapat bervariasi antara berbagai nilai acak. Dengan kata lain, kita dapat mengatakan bahwa penskalaan itu penting karena kita tidak ingin terdapat fitur yang memiliki nilai besar atau kecil secara sintetis. Penskalaan akan mengubah semua nilai berada pada rentang antara 0 dan 1."
      ],
      "metadata": {
        "id": "pbdw_Bxto8ak"
      }
    },
    {
      "cell_type": "markdown",
      "source": [
        "![image.png](data:image/png;base64,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)"
      ],
      "metadata": {
        "id": "z1lOgVYzx7OB"
      }
    },
    {
      "cell_type": "code",
      "source": [
        "data_scaler_minmax = preprocessing.MinMaxScaler(feature_range=(0,1))\n",
        "data_scaled_minmax = data_scaler_minmax.fit_transform(input_data)\n",
        "print (\"Min max scaled data:\\n\", data_scaled_minmax)"
      ],
      "metadata": {
        "id": "3ZchON2Nx8JU",
        "colab": {
          "base_uri": "https://localhost:8080/"
        },
        "outputId": "96ccc175-0f94-42e0-819c-21ff15876508"
      },
      "execution_count": null,
      "outputs": [
        {
          "output_type": "stream",
          "name": "stdout",
          "text": [
            "Min max scaled data:\n",
            " [[0.48648649 0.58252427 0.99122807]\n",
            " [0.         1.         0.81578947]\n",
            " [0.27027027 0.         1.        ]\n",
            " [1.         0.99029126 0.        ]]\n"
          ]
        }
      ]
    },
    {
      "cell_type": "markdown",
      "source": [
        "### 4. Normalization (Normalisasi)\n",
        "\n",
        "**L1 Normalization** juga disebut sebagai Simpangan Mutlak Terkecil. Normalisasi semacam ini memodifikasi nilai sehingga jumlah nilai absolut selalu sama dengan 1 di setiap baris."
      ],
      "metadata": {
        "id": "t_cBShSEqbJF"
      }
    },
    {
      "cell_type": "markdown",
      "source": [
        "![image.png](data:image/png;base64,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)"
      ],
      "metadata": {
        "id": "gy67MuiHyDdp"
      }
    },
    {
      "cell_type": "code",
      "source": [
        "data_normalized_l1 = preprocessing.normalize(input_data, norm='l1')\n",
        "print(\"L1 normalized data:\\n\", data_normalized_l1)"
      ],
      "metadata": {
        "id": "xNSqT6KzyEeX",
        "colab": {
          "base_uri": "https://localhost:8080/"
        },
        "outputId": "2fc7a0e4-897b-4be4-860a-0ce235e84ff7"
      },
      "execution_count": null,
      "outputs": [
        {
          "output_type": "stream",
          "name": "stdout",
          "text": [
            "L1 normalized data:\n",
            " [[ 0.22105263 -0.2         0.57894737]\n",
            " [-0.2027027   0.32432432  0.47297297]\n",
            " [ 0.03571429 -0.56428571  0.4       ]\n",
            " [ 0.42142857  0.16428571 -0.41428571]]\n"
          ]
        }
      ]
    },
    {
      "cell_type": "markdown",
      "source": [
        "**L2 Normalization** juga disebut sebagai kuadrat terkecil. Normalisasi semacam ini mengubah nilai sedemikian hingga jumlah kuadratnya selalu sama dengan 1 di setiap baris."
      ],
      "metadata": {
        "id": "P3D76P7ErteT"
      }
    },
    {
      "cell_type": "markdown",
      "source": [
        "![image.png](data:image/png;base64,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)"
      ],
      "metadata": {
        "id": "mpkXqZ-3yL7D"
      }
    },
    {
      "cell_type": "code",
      "source": [
        "data_normalized_l2 = preprocessing.normalize(input_data, norm='l2')\n",
        "print(\"L2 normalized data :\\n\", data_normalized_l2)"
      ],
      "metadata": {
        "id": "vPDIW3LEyM2E",
        "colab": {
          "base_uri": "https://localhost:8080/"
        },
        "outputId": "d5741ed5-59fc-46cb-9556-553304254d7b"
      },
      "execution_count": null,
      "outputs": [
        {
          "output_type": "stream",
          "name": "stdout",
          "text": [
            "L2 normalized data :\n",
            " [[ 0.33946114 -0.30713151  0.88906489]\n",
            " [-0.33325106  0.53320169  0.7775858 ]\n",
            " [ 0.05156558 -0.81473612  0.57753446]\n",
            " [ 0.68706914  0.26784051 -0.6754239 ]]\n"
          ]
        }
      ]
    },
    {
      "cell_type": "markdown",
      "source": [
        "## Label Data\n",
        "\n",
        "Kita tahu bahwa data memerlukan format tertentu agar dapat diproses. Persyaratan penting lainnya adalah bahwa data harus diberi label dengan benar\n",
        "sebelum digunakan. Label tersebut berbentuk kata, angka, dll. Pada sklearn data harus memiliki label angka. Oleh karena itu, jika data dalam bentuk lain maka harus dikonversi ke angka. Proses mengubah label kata menjadi bentuk numerik disebut pengkodean label. Langkah-langkah pengkodean label adalah sebagai berikut."
      ],
      "metadata": {
        "id": "1dtfbn9NsBt3"
      }
    },
    {
      "cell_type": "markdown",
      "source": [
        "#### Langkah 1. Mengimpor paket yang diperlukan"
      ],
      "metadata": {
        "id": "ALJeOOHxtXef"
      }
    },
    {
      "cell_type": "markdown",
      "source": [
        "![image.png](data:image/png;base64,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)"
      ],
      "metadata": {
        "id": "bEjXZi86yVao"
      }
    },
    {
      "cell_type": "code",
      "source": [
        "import numpy as np\n",
        "from sklearn import preprocessing"
      ],
      "metadata": {
        "id": "g5cIhbelyWSY"
      },
      "execution_count": null,
      "outputs": []
    },
    {
      "cell_type": "markdown",
      "source": [
        "#### Langkah 2. Mendefinisikan label sampel"
      ],
      "metadata": {
        "id": "3IJlj2nTt0Tw"
      }
    },
    {
      "cell_type": "markdown",
      "source": [
        "![image.png](data:image/png;base64,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)"
      ],
      "metadata": {
        "id": "Pj1ziwhvydfQ"
      }
    },
    {
      "cell_type": "code",
      "source": [
        "input_labels = ['merah', 'hitam', 'merah', 'hijau', 'hitam', 'kuning', 'putih']"
      ],
      "metadata": {
        "id": "6aDsczILyeXQ"
      },
      "execution_count": null,
      "outputs": []
    },
    {
      "cell_type": "markdown",
      "source": [
        "#### Langkah 3. Membuat & melatih objek encoder label\n",
        "\n",
        "Pada langkah ini, kita perlu membuat encoder label dan melatihnya."
      ],
      "metadata": {
        "id": "ef6dK1M1ucy6"
      }
    },
    {
      "cell_type": "markdown",
      "source": [
        "![image.png](data:image/png;base64,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)"
      ],
      "metadata": {
        "id": "7MIWH4UgylaK"
      }
    },
    {
      "cell_type": "code",
      "source": [
        "encoder = preprocessing.LabelEncoder()\n",
        "encoder.fit(input_labels)"
      ],
      "metadata": {
        "id": "1yQjSUyEymYM",
        "colab": {
          "base_uri": "https://localhost:8080/",
          "height": 74
        },
        "outputId": "527065a2-2bb0-425c-90c6-4b2ce09b7bb3"
      },
      "execution_count": null,
      "outputs": [
        {
          "output_type": "execute_result",
          "data": {
            "text/plain": [
              "LabelEncoder()"
            ],
            "text/html": [
              "<style>#sk-container-id-1 {color: black;background-color: white;}#sk-container-id-1 pre{padding: 0;}#sk-container-id-1 div.sk-toggleable {background-color: white;}#sk-container-id-1 label.sk-toggleable__label {cursor: pointer;display: block;width: 100%;margin-bottom: 0;padding: 0.3em;box-sizing: border-box;text-align: center;}#sk-container-id-1 label.sk-toggleable__label-arrow:before {content: \"▸\";float: left;margin-right: 0.25em;color: #696969;}#sk-container-id-1 label.sk-toggleable__label-arrow:hover:before {color: black;}#sk-container-id-1 div.sk-estimator:hover label.sk-toggleable__label-arrow:before {color: black;}#sk-container-id-1 div.sk-toggleable__content {max-height: 0;max-width: 0;overflow: hidden;text-align: left;background-color: #f0f8ff;}#sk-container-id-1 div.sk-toggleable__content pre {margin: 0.2em;color: black;border-radius: 0.25em;background-color: #f0f8ff;}#sk-container-id-1 input.sk-toggleable__control:checked~div.sk-toggleable__content {max-height: 200px;max-width: 100%;overflow: auto;}#sk-container-id-1 input.sk-toggleable__control:checked~label.sk-toggleable__label-arrow:before {content: \"▾\";}#sk-container-id-1 div.sk-estimator input.sk-toggleable__control:checked~label.sk-toggleable__label {background-color: #d4ebff;}#sk-container-id-1 div.sk-label input.sk-toggleable__control:checked~label.sk-toggleable__label {background-color: #d4ebff;}#sk-container-id-1 input.sk-hidden--visually {border: 0;clip: rect(1px 1px 1px 1px);clip: rect(1px, 1px, 1px, 1px);height: 1px;margin: -1px;overflow: hidden;padding: 0;position: absolute;width: 1px;}#sk-container-id-1 div.sk-estimator {font-family: monospace;background-color: #f0f8ff;border: 1px dotted black;border-radius: 0.25em;box-sizing: border-box;margin-bottom: 0.5em;}#sk-container-id-1 div.sk-estimator:hover {background-color: #d4ebff;}#sk-container-id-1 div.sk-parallel-item::after {content: \"\";width: 100%;border-bottom: 1px solid gray;flex-grow: 1;}#sk-container-id-1 div.sk-label:hover label.sk-toggleable__label {background-color: #d4ebff;}#sk-container-id-1 div.sk-serial::before {content: \"\";position: absolute;border-left: 1px solid gray;box-sizing: border-box;top: 0;bottom: 0;left: 50%;z-index: 0;}#sk-container-id-1 div.sk-serial {display: flex;flex-direction: column;align-items: center;background-color: white;padding-right: 0.2em;padding-left: 0.2em;position: relative;}#sk-container-id-1 div.sk-item {position: relative;z-index: 1;}#sk-container-id-1 div.sk-parallel {display: flex;align-items: stretch;justify-content: center;background-color: white;position: relative;}#sk-container-id-1 div.sk-item::before, #sk-container-id-1 div.sk-parallel-item::before {content: \"\";position: absolute;border-left: 1px solid gray;box-sizing: border-box;top: 0;bottom: 0;left: 50%;z-index: -1;}#sk-container-id-1 div.sk-parallel-item {display: flex;flex-direction: column;z-index: 1;position: relative;background-color: white;}#sk-container-id-1 div.sk-parallel-item:first-child::after {align-self: flex-end;width: 50%;}#sk-container-id-1 div.sk-parallel-item:last-child::after {align-self: flex-start;width: 50%;}#sk-container-id-1 div.sk-parallel-item:only-child::after {width: 0;}#sk-container-id-1 div.sk-dashed-wrapped {border: 1px dashed gray;margin: 0 0.4em 0.5em 0.4em;box-sizing: border-box;padding-bottom: 0.4em;background-color: white;}#sk-container-id-1 div.sk-label label {font-family: monospace;font-weight: bold;display: inline-block;line-height: 1.2em;}#sk-container-id-1 div.sk-label-container {text-align: center;}#sk-container-id-1 div.sk-container {/* jupyter's `normalize.less` sets `[hidden] { display: none; }` but bootstrap.min.css set `[hidden] { display: none !important; }` so we also need the `!important` here to be able to override the default hidden behavior on the sphinx rendered scikit-learn.org. See: https://github.com/scikit-learn/scikit-learn/issues/21755 */display: inline-block !important;position: relative;}#sk-container-id-1 div.sk-text-repr-fallback {display: none;}</style><div id=\"sk-container-id-1\" class=\"sk-top-container\"><div class=\"sk-text-repr-fallback\"><pre>LabelEncoder()</pre><b>In a Jupyter environment, please rerun this cell to show the HTML representation or trust the notebook. <br />On GitHub, the HTML representation is unable to render, please try loading this page with nbviewer.org.</b></div><div class=\"sk-container\" hidden><div class=\"sk-item\"><div class=\"sk-estimator sk-toggleable\"><input class=\"sk-toggleable__control sk-hidden--visually\" id=\"sk-estimator-id-1\" type=\"checkbox\" checked><label for=\"sk-estimator-id-1\" class=\"sk-toggleable__label sk-toggleable__label-arrow\">LabelEncoder</label><div class=\"sk-toggleable__content\"><pre>LabelEncoder()</pre></div></div></div></div></div>"
            ]
          },
          "metadata": {},
          "execution_count": 32
        }
      ]
    },
    {
      "cell_type": "markdown",
      "source": [
        "#### Langkah 4. Memeriksa kinerja dengan menyandikan daftar urutan acak\n",
        "\n",
        "Langkah ini dapat digunakan untuk memeriksa kinerja dengan menyandikan daftar urutan acak."
      ],
      "metadata": {
        "id": "BfFP-plzu-ZB"
      }
    },
    {
      "cell_type": "markdown",
      "source": [
        "![image.png](data:image/png;base64,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)"
      ],
      "metadata": {
        "id": "L8tXbxYzysP9"
      }
    },
    {
      "cell_type": "code",
      "source": [
        "test_labels = ['hijau', 'merah', 'hitam']\n",
        "encoded_values = encoder.transform(test_labels)\n",
        "print(\"Labels =\", test_labels)\n",
        "print(\"Encoded values =\", list(encoded_values))"
      ],
      "metadata": {
        "id": "AGkXebZLytI2",
        "colab": {
          "base_uri": "https://localhost:8080/"
        },
        "outputId": "b46b27e1-0ee1-413e-d53c-4fd53966cae1"
      },
      "execution_count": null,
      "outputs": [
        {
          "output_type": "stream",
          "name": "stdout",
          "text": [
            "Labels = ['hijau', 'merah', 'hitam']\n",
            "Encoded values = [0, 3, 1]\n"
          ]
        }
      ]
    },
    {
      "cell_type": "markdown",
      "source": [
        "#### Langkah 5. Memeriksa kinerja dengan mendekode rangkaian angka acak\n",
        "\n",
        "Langkah ini dapat digunakan untuk memeriksa kinerja dengan mendekode kumpulan angka acak."
      ],
      "metadata": {
        "id": "GFdNqtl9v12K"
      }
    },
    {
      "cell_type": "markdown",
      "source": [
        "![image.png](data:image/png;base64,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)"
      ],
      "metadata": {
        "id": "JIxIfK7hyzdf"
      }
    },
    {
      "cell_type": "code",
      "source": [
        "encoded_values = [3, 0, 4, 1]\n",
        "decoded_list = encoder.inverse_transform(encoded_values)\n",
        "print(\"Encoded values =\", encoded_values)\n",
        "print(\"Decoded labels =\", list(decoded_list))"
      ],
      "metadata": {
        "id": "-GRYEloLy0UX",
        "colab": {
          "base_uri": "https://localhost:8080/"
        },
        "outputId": "9fe361c9-8790-43ec-f8cc-000ee1965a5b"
      },
      "execution_count": null,
      "outputs": [
        {
          "output_type": "stream",
          "name": "stdout",
          "text": [
            "Encoded values = [3, 0, 4, 1]\n",
            "Decoded labels = ['merah', 'hijau', 'putih', 'hitam']\n"
          ]
        }
      ]
    }
  ]
}